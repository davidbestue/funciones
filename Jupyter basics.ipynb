{
 "cells": [
  {
   "cell_type": "markdown",
   "metadata": {},
   "source": [
    "### Shortcuts\n",
    "\n",
    "You select a cell (left, not inside the cell, by the side)  \n",
    "If you press \"a\", it creates a cell Above  \n",
    "If you press \"b\", you create a cell Below\n",
    "\n",
    "If you press \"Shft + Enter\", you run the cell\n",
    "\n",
    "If you press \"d\" twice, you delete the cell"
   ]
  },
  {
   "cell_type": "code",
   "execution_count": null,
   "metadata": {},
   "outputs": [],
   "source": []
  },
  {
   "cell_type": "code",
   "execution_count": null,
   "metadata": {},
   "outputs": [],
   "source": []
  },
  {
   "cell_type": "markdown",
   "metadata": {},
   "source": [
    "## Types of cell"
   ]
  },
  {
   "cell_type": "markdown",
   "metadata": {},
   "source": [
    "## Markdowns  \n",
    "\n",
    "(instead of being a \"code cell\", if you want to put text go to Cell --> Cell type --> Markdown)\n",
    "\n",
    "# Header 1  \n",
    "## Header 2\n",
    "### Header 3  \n",
    "#### header 4 ....\n",
    "\n",
    "If you want different lines, after the sentence make 2 SPACES  \n",
    "\n",
    "If you just do enter\n",
    "It looks like this (althogh when you edit they are at different lines)\n",
    "\n",
    "If you do 2 spaces and enter  \n",
    "It looks like this\n",
    "\n",
    "\n",
    "***to make it in bold, use the astheristcs***"
   ]
  },
  {
   "cell_type": "code",
   "execution_count": 4,
   "metadata": {},
   "outputs": [],
   "source": [
    "# Simple imports\n",
    "\n",
    "import numpy as np\n",
    "import pandas as pd\n",
    "import seaborn as sns\n",
    "from scipy.stats import norm\n",
    "import os"
   ]
  },
  {
   "cell_type": "code",
   "execution_count": 6,
   "metadata": {},
   "outputs": [],
   "source": [
    "## The %matplotlib inline will make your plot outputs appear and be stored within the notebook\n",
    "%matplotlib inline\n",
    "import matplotlib.pyplot as plt\n"
   ]
  },
  {
   "cell_type": "code",
   "execution_count": null,
   "metadata": {},
   "outputs": [],
   "source": [
    "# You want to import one of your functions:\n",
    "\n",
    "# Put your function in the site-packages folder.  \n",
    "# If you use anaconda it will look something like this:\n",
    "\n",
    "# C:\\Users\\David\\Anaconda3\\envs\\python3\\Lib\\site-packages\n",
    "\n",
    "from linares_plot import *\n",
    "\n"
   ]
  },
  {
   "cell_type": "code",
   "execution_count": null,
   "metadata": {},
   "outputs": [],
   "source": [
    "## You can also create a file with many functions and run it\n",
    "\n",
    "root= os.getcwd()\n",
    "functionc_path = 'C:\\\\Users\\\\David\\\\functions'\n",
    "\n",
    "os.chdir(fnc_path)\n",
    "%run \"Funciones.ipynb\"\n",
    "os.chdir(root)"
   ]
  },
  {
   "cell_type": "code",
   "execution_count": null,
   "metadata": {},
   "outputs": [],
   "source": []
  },
  {
   "cell_type": "code",
   "execution_count": 7,
   "metadata": {},
   "outputs": [
    {
     "name": "stdout",
     "output_type": "stream",
     "text": [
      "['#fbb4ae', '#b3cde3', '#ccebc5', '#decbe4', '#fed9a6', '#ffffcc', '#e5d8bd', '#fddaec', '#f2f2f2', '#fbb4ae', '#b3cde3', '#ccebc5']\n"
     ]
    },
    {
     "data": {
      "image/png": "[encoded data removed]",
      "text/plain": [
       "<Figure size 864x72 with 1 Axes>"
      ]
     },
     "metadata": {},
     "output_type": "display_data"
    },
    {
     "data": {
      "image/png": "[encoded data removed]",
      "text/plain": [
       "<Figure size 144x72 with 1 Axes>"
      ]
     },
     "metadata": {},
     "output_type": "display_data"
    }
   ],
   "source": [
    "## Style of the plots \n",
    "sns.set()\n",
    "sns.set_style('white')\n",
    "\n",
    "#Example of palettes! Very useful\n",
    "print(sns.color_palette(\"Pastel1\", n_colors=12, desat=1).as_hex())\n",
    "sns.palplot(sns.color_palette(\"Pastel1\", n_colors=12))\n",
    "plt.show()\n",
    "\n",
    "## create the pallete you want\n",
    "flatui = ['#b3cde3', '#ffffcc']\n",
    "sns.set_palette(flatui)\n",
    "sns.palplot(flatui)\n",
    "plt.show()\n"
   ]
  },
  {
   "cell_type": "code",
   "execution_count": null,
   "metadata": {},
   "outputs": [],
   "source": [
    "https://seaborn.pydata.org/generated/seaborn.set_style.html"
   ]
  },
  {
   "cell_type": "code",
   "execution_count": null,
   "metadata": {},
   "outputs": [],
   "source": []
  },
  {
   "cell_type": "markdown",
   "metadata": {},
   "source": [
    "### Add images to the Jupyter notebook   \n",
    "Make a markdown cell and put the path"
   ]
  },
  {
   "cell_type": "markdown",
   "metadata": {},
   "source": [
    "![](seaborn_palettes.png)"
   ]
  },
  {
   "cell_type": "code",
   "execution_count": null,
   "metadata": {},
   "outputs": [],
   "source": []
  },
  {
   "cell_type": "code",
   "execution_count": null,
   "metadata": {},
   "outputs": [],
   "source": []
  },
  {
   "cell_type": "markdown",
   "metadata": {},
   "source": [
    "### Add links to the Jupyter notebook   \n",
    "Make a markdown cell and put the path"
   ]
  },
  {
   "cell_type": "markdown",
   "metadata": {},
   "source": [
    "You can look at the [different styles](https://seaborn.pydata.org/generated/seaborn.set_style.html) of seaborn"
   ]
  },
  {
   "cell_type": "code",
   "execution_count": null,
   "metadata": {},
   "outputs": [],
   "source": []
  },
  {
   "cell_type": "code",
   "execution_count": null,
   "metadata": {},
   "outputs": [],
   "source": []
  },
  {
   "cell_type": "code",
   "execution_count": null,
   "metadata": {},
   "outputs": [],
   "source": [
    "## RANDOM PLOT WITH USEFUL AESTHETICS!!! \n",
    "### Take a look because you may use some of this in other plots!!!"
   ]
  },
  {
   "cell_type": "code",
   "execution_count": 18,
   "metadata": {},
   "outputs": [
    {
     "data": {
      "image/png": "[encoded data removed]",
      "text/plain": [
       "<Figure size 432x288 with 1 Axes>"
      ]
     },
     "metadata": {},
     "output_type": "display_data"
    }
   ],
   "source": [
    "\n",
    "##Generate fake data\n",
    "\n",
    "effect_axis=10 #\n",
    "target=80\n",
    "real_error = 5 ## attraction of 5 degrees\n",
    "distractor_dit = 10\n",
    "response_cw = np.random.normal(target - effect_axis + real_error, 5, 10000)\n",
    "response_ccw = np.random.normal(target- effect_axis - real_error, 5, 10000)\n",
    "cw=pd.DataFrame({'response':response_cw})\n",
    "cw['target'] = target\n",
    "cw['orient'] = 'cw'\n",
    "cw['distractor'] = target + distractor_dit\n",
    "ccw=pd.DataFrame({'response':response_ccw})\n",
    "ccw['target'] = target\n",
    "ccw['orient'] = 'ccw'\n",
    "ccw['distractor'] = target - distractor_dit\n",
    "df=pd.concat([cw, ccw], ignore_index=True)\n",
    "df['error'] = df['target'] - df['response']\n",
    "df.head(10)\n",
    "\n",
    "\n",
    "\n",
    "\n",
    "#### HISTOGRAM\n",
    "## Fiting a normal distribution! (changing the colors and the width of the fiting line)\n",
    "## seting the bins size\n",
    "\n",
    "sns.distplot(df.loc[df['orient']=='cw', 'error'] , bins=np.linspace(-30,30,60), label='cw',\n",
    "              fit=norm, kde=False, fit_kws={\"color\":'darkblue', 'linewidth':2},  color='darkblue')\n",
    "\n",
    "sns.distplot(df.loc[df['orient']=='ccw', 'error'] , bins=np.linspace(-30,30,60), label='ccw',\n",
    "              fit=norm, kde=False, fit_kws={\"color\":'lightcoral', 'linewidth':2},  color='lightcoral')\n",
    "\n",
    "\n",
    "plt.legend(frameon=False, loc=1, fontsize=15) #No frame in the legend\n",
    "\n",
    "##Remove top and right axis and spines\n",
    "plt.gca().spines['right'].set_visible(False)\n",
    "plt.gca().spines['top'].set_visible(False)\n",
    "plt.gca().get_xaxis().tick_bottom()\n",
    "plt.gca().get_yaxis().tick_left()\n",
    "\n",
    "## X label using LATEX for the degrees\n",
    "plt.xlabel(r'angle error ($^\\circ$)', fontsize=15)\n",
    "plt.ylim(0, 0.1)\n",
    "plt.yticks([0,0.05, 0.1], fontsize=15)\n",
    "plt.xticks(fontsize=15)\n",
    "plt.plot([0,0], [0,0.075], 'k--', linewidth=1)\n",
    "plt.title('Axis bias', fontsize=20)\n",
    "\n",
    "## Text, again using latex\n",
    "plt.text(-30, 0.08, r'$\\mu$ interference=' + str(2) + '$^\\circ$', fontsize=15)\n",
    "plt.text(-30, 0.09, r'$\\mu$ interference corr.=' + str(5) + '$^\\circ$', fontsize=15);\n",
    "\n",
    "\n",
    "### Save as .svg if needed!\n",
    "##plt.savefig('C:\\\\Users\\\\David\\\\Desktop\\\\no_axis_bias_method.svg', transparent=True )"
   ]
  },
  {
   "cell_type": "code",
   "execution_count": 25,
   "metadata": {},
   "outputs": [
    {
     "data": {
      "image/png": "[encoded data removed]",
      "text/plain": [
       "<Figure size 432x288 with 1 Axes>"
      ]
     },
     "metadata": {},
     "output_type": "display_data"
    }
   ],
   "source": [
    "#### Visualize a TRIAL\n",
    "\n",
    "ex_trial=6\n",
    "plt.plot(0, 0, 'k+')\n",
    "plt.plot( np.cos(   np.radians(df.iloc[ex_trial,0])    ), np.sin(    np.radians(df.iloc[ex_trial,0])    ), 'bx', label='response')\n",
    "plt.plot( np.cos(   np.radians(df.iloc[ex_trial,1])    ), np.sin(    np.radians(df.iloc[ex_trial,1])    ), 'ro', label='target')\n",
    "plt.plot( np.cos(   np.radians(df.iloc[ex_trial,3])    ), np.sin(    np.radians(df.iloc[ex_trial,3])    ), 'go', label='distractor')\n",
    "\n",
    "plt.legend(loc=2)\n",
    "plt.xlim(-1.2, 1.2)\n",
    "plt.ylim(-1.2, 1.2)\n",
    "plt.title('trial', fontsize=20)\n",
    "plt.show()"
   ]
  },
  {
   "cell_type": "code",
   "execution_count": null,
   "metadata": {},
   "outputs": [],
   "source": []
  }
 ],
 "metadata": {
  "kernelspec": {
   "display_name": "Python 3",
   "language": "python",
   "name": "python3"
  },
  "language_info": {
   "codemirror_mode": {
    "name": "ipython",
    "version": 3
   },
   "file_extension": ".py",
   "mimetype": "text/x-python",
   "name": "python",
   "nbconvert_exporter": "python",
   "pygments_lexer": "ipython3",
   "version": "3.5.6"
  }
 },
 "nbformat": 4,
 "nbformat_minor": 2
}
