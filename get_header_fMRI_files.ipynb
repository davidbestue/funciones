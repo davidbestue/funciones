{
 "cells": [
  {
   "cell_type": "code",
   "execution_count": 1,
   "metadata": {},
   "outputs": [
    {
     "name": "stderr",
     "output_type": "stream",
     "text": [
      "C:\\Users\\David\\Anaconda3\\envs\\python3\\lib\\site-packages\\h5py\\__init__.py:36: FutureWarning: Conversion of the second argument of issubdtype from `float` to `np.floating` is deprecated. In future, it will be treated as `np.float64 == np.dtype(float).type`.\n",
      "  from ._conv import register_converters as _register_converters\n"
     ]
    }
   ],
   "source": [
    "import numpy as np\n",
    "import nibabel as nib"
   ]
  },
  {
   "cell_type": "code",
   "execution_count": 2,
   "metadata": {},
   "outputs": [],
   "source": [
    "## Structural"
   ]
  },
  {
   "cell_type": "code",
   "execution_count": 13,
   "metadata": {},
   "outputs": [
    {
     "name": "stdout",
     "output_type": "stream",
     "text": [
      "<class 'nibabel.freesurfer.mghformat.MGHHeader'> object, endian='>'\n",
      "version      : 1\n",
      "dims         : [256 256 256   1]\n",
      "type         : 0\n",
      "dof          : 0\n",
      "goodRASFlag  : 1\n",
      "delta        : [1. 1. 1.]\n",
      "Mdc          : [[-1.  0.  0.]\n",
      " [ 0.  0. -1.]\n",
      " [ 0.  1.  0.]]\n",
      "Pxyz_c       : [-0.6622009 27.14801    1.2990036]\n",
      "tr           : 6.404\n",
      "flip_angle   : 0.20943952\n",
      "te           : 2.808\n",
      "ti           : 450.0\n",
      "fov          : 256.0\n"
     ]
    }
   ],
   "source": [
    "file = 'C:\\\\Users\\\\David\\\\Desktop\\\\KI_Desktop\\\\freesurfer\\\\n001\\\\structurals\\\\struct_1\\\\n001\\\\mri\\\\orig.mgz'\n",
    "func_img = nib.load(file) \n",
    "header = func_img.header\n",
    "print(header)"
   ]
  },
  {
   "cell_type": "code",
   "execution_count": 11,
   "metadata": {},
   "outputs": [],
   "source": [
    "## Functional"
   ]
  },
  {
   "cell_type": "code",
   "execution_count": 16,
   "metadata": {},
   "outputs": [
    {
     "name": "stdout",
     "output_type": "stream",
     "text": [
      "<class 'nibabel.nifti1.Nifti1Header'> object, endian='<'\n",
      "sizeof_hdr      : 348\n",
      "data_type       : b''\n",
      "db_name         : b'11323'\n",
      "extents         : 16384\n",
      "session_error   : 0\n",
      "regular         : b'r'\n",
      "dim_info        : 121\n",
      "dim             : [  4 110 110  47 180   1   1   1]\n",
      "intent_p1       : 0.0\n",
      "intent_p2       : 0.0\n",
      "intent_p3       : 0.0\n",
      "intent_code     : none\n",
      "datatype        : int16\n",
      "bitpix          : 16\n",
      "slice_start     : 0\n",
      "pixdim          : [-1.     2.     2.     3.     2.335  0.     0.     0.   ]\n",
      "vox_offset      : 0.0\n",
      "scl_slope       : nan\n",
      "scl_inter       : nan\n",
      "slice_end       : 46\n",
      "slice_code      : alternating increasing\n",
      "xyzt_units      : 10\n",
      "cal_max         : 0.0\n",
      "cal_min         : 0.0\n",
      "slice_duration  : 0.04968085\n",
      "toffset         : 0.0\n",
      "glmax           : 7210\n",
      "glmin           : 0\n",
      "descrip         : b'phase=y;readout=0.0671;dwell=0.616;TE=30;time=20180530120720;'\n",
      "aux_file        : b';GE;MRC381_WM_Limit_1'\n",
      "qform_code      : scanner\n",
      "sform_code      : scanner\n",
      "quatern_b       : -0.0\n",
      "quatern_c       : 1.0\n",
      "quatern_d       : -0.0\n",
      "qoffset_x       : 110.172\n",
      "qoffset_y       : -93.7\n",
      "qoffset_z       : -53.9076\n",
      "srow_x          : [ -2.     -0.      0.    110.172]\n",
      "srow_y          : [ -0.    2.    0.  -93.7]\n",
      "srow_z          : [  0.      -0.       3.     -53.9076]\n",
      "intent_name     : b'EP\\\\RM'\n",
      "magic           : b'n+1'\n"
     ]
    }
   ],
   "source": [
    "file = 'C:\\\\Users\\\\David\\\\Desktop\\\\KI_Desktop\\\\freesurfer\\\\David\\\\encoding\\\\encoding_1\\\\bold\\\\001\\\\f.nii'\n",
    "func_img = nib.load(file) \n",
    "header = func_img.header\n",
    "print(header)"
   ]
  },
  {
   "cell_type": "code",
   "execution_count": null,
   "metadata": {},
   "outputs": [],
   "source": []
  }
 ],
 "metadata": {
  "kernelspec": {
   "display_name": "Python 3",
   "language": "python",
   "name": "python3"
  },
  "language_info": {
   "codemirror_mode": {
    "name": "ipython",
    "version": 3
   },
   "file_extension": ".py",
   "mimetype": "text/x-python",
   "name": "python",
   "nbconvert_exporter": "python",
   "pygments_lexer": "ipython3",
   "version": "3.5.6"
  }
 },
 "nbformat": 4,
 "nbformat_minor": 2
}
